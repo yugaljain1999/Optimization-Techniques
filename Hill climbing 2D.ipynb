{
 "cells": [
  {
   "cell_type": "code",
   "execution_count": 29,
   "metadata": {},
   "outputs": [
    {
     "data": {
      "image/png": "[encoded data removed]",
      "text/plain": [
       "<Figure size 432x288 with 1 Axes>"
      ]
     },
     "metadata": {},
     "output_type": "display_data"
    }
   ],
   "source": [
    "import random\n",
    "import numpy as np\n",
    "import matplotlib.pyplot as plt\n",
    "x=np.linspace(-2,2,200)\n",
    "\n",
    "def func(x):\n",
    "    return x**3-3*x**2+1\n",
    "\n",
    "plt.plot(x,func(x),color='g')\n",
    "plt.show()\n"
   ]
  },
  {
   "cell_type": "code",
   "execution_count": 32,
   "metadata": {},
   "outputs": [
    {
     "name": "stdout",
     "output_type": "stream",
     "text": [
      "1 -16\n",
      "-1.8840428731893368\n",
      "1 -9\n",
      "-1.5145792499852049\n",
      "1 -2\n",
      "1.8593047985791258\n",
      "1 0\n",
      "-0.24998104296610402\n",
      "1 0\n",
      "0.5175585099926967\n",
      "1 -9\n",
      "-1.5399032568347635\n",
      "1 -2\n",
      "1.6804855702986177\n",
      "1 -3\n",
      "-1.0906176066770756\n",
      "1 0\n",
      "0.3245422213117024\n",
      "1 0\n",
      "-0.5434576697639719\n"
     ]
    },
    {
     "data": {
      "image/png": "[encoded data removed]",
      "text/plain": [
       "<Figure size 432x288 with 1 Axes>"
      ]
     },
     "metadata": {},
     "output_type": "display_data"
    },
    {
     "name": "stdout",
     "output_type": "stream",
     "text": [
      "[-1.8840428731893368, 1.8593047985791258, 0.5175585099926967, 1.6804855702986177, 0.3245422213117024]\n"
     ]
    }
   ],
   "source": [
    "import random\n",
    "def random():\n",
    "    import random\n",
    "    x=random.uniform(-2,2)\n",
    "        \n",
    "\n",
    "    lis=[]\n",
    "    p=1\n",
    "    MAX_VALUE=2\n",
    "    MIN_VALUE=-2\n",
    "   \n",
    "    \n",
    "    \n",
    "     \n",
    "    for i in range(0,10):\n",
    "        if p>random.randrange(0,1):\n",
    "            while(True):\n",
    "                n=random.randrange(-10,10)\n",
    "                if x+n<=MAX_VALUE and x+n>=MIN_VALUE:\n",
    "                    break\n",
    "            x+=n\n",
    "            x1=x\n",
    "        R=x1\n",
    "        if func(R)>func(x):\n",
    "            x=R\n",
    "        list=[func(f) for f in range(-2,2)]\n",
    "        maximum=max(list)\n",
    "        a=int(func(x))\n",
    "        if a==maximum:\n",
    "            break\n",
    "    print(maximum,a)\n",
    "    print(x)\n",
    "    return x\n",
    "\n",
    "\n",
    "\n",
    "\n",
    "\n",
    "    \n",
    "r=[]\n",
    "for i in range(0,5):\n",
    "    r.append(random())\n",
    "    random()\n",
    "\n",
    "\n",
    "\n",
    "def func(x):\n",
    "    return x**3-3*x**2+1\n",
    "for i in range(0,5):\n",
    "    plt.scatter(r[i],func(r[i]))\n",
    "plt.show()\n",
    "    \n",
    "    \n",
    "print(r)"
   ]
  },
  {
   "cell_type": "code",
   "execution_count": null,
   "metadata": {},
   "outputs": [],
   "source": []
  },
  {
   "cell_type": "code",
   "execution_count": null,
   "metadata": {},
   "outputs": [],
   "source": []
  }
 ],
 "metadata": {
  "kernelspec": {
   "display_name": "Python 3",
   "language": "python",
   "name": "python3"
  },
  "language_info": {
   "codemirror_mode": {
    "name": "ipython",
    "version": 3
   },
   "file_extension": ".py",
   "mimetype": "text/x-python",
   "name": "python",
   "nbconvert_exporter": "python",
   "pygments_lexer": "ipython3",
   "version": "3.5.5"
  }
 },
 "nbformat": 4,
 "nbformat_minor": 2
}
