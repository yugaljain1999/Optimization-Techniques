{
 "cells": [
  {
   "cell_type": "code",
   "execution_count": 7,
   "metadata": {},
   "outputs": [
    {
     "ename": "KeyboardInterrupt",
     "evalue": "",
     "output_type": "error",
     "traceback": [
      "\u001b[1;31m---------------------------------------------------------------------------\u001b[0m",
      "\u001b[1;31mKeyboardInterrupt\u001b[0m                         Traceback (most recent call last)",
      "\u001b[1;32m~\\Anaconda3\\envs\\python35\\lib\\site-packages\\IPython\\core\\hooks.py\u001b[0m in \u001b[0;36m__call__\u001b[1;34m(self, *args, **kw)\u001b[0m\n\u001b[0;32m    147\u001b[0m         TryNext\"\"\"\n\u001b[0;32m    148\u001b[0m         \u001b[0mlast_exc\u001b[0m \u001b[1;33m=\u001b[0m \u001b[0mTryNext\u001b[0m\u001b[1;33m(\u001b[0m\u001b[1;33m)\u001b[0m\u001b[1;33m\u001b[0m\u001b[0m\n\u001b[1;32m--> 149\u001b[1;33m         \u001b[1;32mfor\u001b[0m \u001b[0mprio\u001b[0m\u001b[1;33m,\u001b[0m\u001b[0mcmd\u001b[0m \u001b[1;32min\u001b[0m \u001b[0mself\u001b[0m\u001b[1;33m.\u001b[0m\u001b[0mchain\u001b[0m\u001b[1;33m:\u001b[0m\u001b[1;33m\u001b[0m\u001b[0m\n\u001b[0m\u001b[0;32m    150\u001b[0m             \u001b[1;31m#print \"prio\",prio,\"cmd\",cmd #dbg\u001b[0m\u001b[1;33m\u001b[0m\u001b[1;33m\u001b[0m\u001b[0m\n\u001b[0;32m    151\u001b[0m             \u001b[1;32mtry\u001b[0m\u001b[1;33m:\u001b[0m\u001b[1;33m\u001b[0m\u001b[0m\n",
      "\u001b[1;31mKeyboardInterrupt\u001b[0m: "
     ]
    },
    {
     "data": {
      "image/png": "[encoded data removed]",
      "text/plain": [
       "<Figure size 432x288 with 1 Axes>"
      ]
     },
     "metadata": {},
     "output_type": "display_data"
    }
   ],
   "source": [
    "import numpy as np\n",
    "import matplotlib.pyplot as plt\n",
    "%matplotlib inline\n",
    "def func(x):\n",
    "    return 1/3*x**3-(3/2*x**2)+2*x\n",
    "def der_func(x):\n",
    "    return x**2-3*x+2\n",
    "\n",
    "def double_der(x):\n",
    "    return 2*x-3\n",
    "\n",
    "x=np.arange(-1,3,0.1)\n",
    "plt.plot(x,func(x))\n",
    "\n",
    "x=-1\n",
    "l=[]\n",
    "alpha=0.01\n",
    "while(True):\n",
    "    x=x+(alpha*der_func(x))\n",
    "    l.append(x)\n",
    "    if x==0:\n",
    "        break\n",
    "print(l)        \n",
    "\n",
    "\n",
    "\n"
   ]
  },
  {
   "cell_type": "code",
   "execution_count": null,
   "metadata": {},
   "outputs": [],
   "source": [
    "x=-1\n",
    "l=[]\n",
    "alpha=0.1\n",
    "while(True):\n",
    "    x=x+(alpha*der_func(x))\n",
    "    l.append(x)\n",
    "    if der_func(x)==0:\n",
    "        break\n",
    "print(x)        \n"
   ]
  },
  {
   "cell_type": "code",
   "execution_count": null,
   "metadata": {},
   "outputs": [],
   "source": [
    "\n",
    "func_l=[]\n",
    "for i in l:\n",
    "    func_l.append(func(i))\n",
    "func_l   \n",
    "plt.figure()\n",
    "plt.scatter(l,func_l,color='r')\n",
    "\n",
    "x=np.linspace(-1,1,300)\n",
    "\n",
    "# original plot\n",
    "plt.plot(x,func(x))"
   ]
  },
  {
   "cell_type": "code",
   "execution_count": null,
   "metadata": {},
   "outputs": [],
   "source": [
    "\n",
    "\n",
    "# original plot\n",
    "plt.plot(x,func(x))"
   ]
  },
  {
   "cell_type": "code",
   "execution_count": null,
   "metadata": {},
   "outputs": [],
   "source": [
    "\n",
    "#Newton's method with double derivative\n",
    "\n",
    "def func(x):\n",
    "    return x**3-3*x**2+7\n",
    "def der_func(x):\n",
    "    return 3*x**2-6*x\n",
    "\n",
    "def double_der(x):\n",
    "    return 6*x-6\n",
    "\n",
    "\n"
   ]
  },
  {
   "cell_type": "code",
   "execution_count": null,
   "metadata": {},
   "outputs": [],
   "source": []
  },
  {
   "cell_type": "code",
   "execution_count": null,
   "metadata": {},
   "outputs": [],
   "source": []
  }
 ],
 "metadata": {
  "kernelspec": {
   "display_name": "Python 3",
   "language": "python",
   "name": "python3"
  },
  "language_info": {
   "codemirror_mode": {
    "name": "ipython",
    "version": 3
   },
   "file_extension": ".py",
   "mimetype": "text/x-python",
   "name": "python",
   "nbconvert_exporter": "python",
   "pygments_lexer": "ipython3",
   "version": "3.5.5"
  }
 },
 "nbformat": 4,
 "nbformat_minor": 2
}
